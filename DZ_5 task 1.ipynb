{
 "cells": [
  {
   "cell_type": "code",
   "execution_count": 28,
   "id": "6e44a0e4-fc04-4054-ad9b-40d31e2a3d15",
   "metadata": {},
   "outputs": [
    {
     "name": "stdout",
     "output_type": "stream",
     "text": [
      "2002-10-02 00:00:00\n",
      "2013-10-11 00:00:00\n",
      "1977-08-18 00:00:00\n"
     ]
    }
   ],
   "source": [
    "from datetime import datetime                                                       #импортируем класс datetime\n",
    "The_Moscow_time = datetime.strptime(\"Wednesday, October 2, 2002\", \"%A, %B %d, %Y\")  #переводи текущий формат в формат datetime\n",
    "print(The_Moscow_time)                                                              #выводим на печать дату в формате datetime\n",
    "The_Guardian = datetime.strptime('Friday, 11.10.13', '%A, %d.%m.%y')\n",
    "print(The_Guardian) \n",
    "Daily_News = datetime.strptime('Thursday, 18 August 1977', '%A, %d %B %Y')\n",
    "print(Daily_News)"
   ]
  }
 ],
 "metadata": {
  "kernelspec": {
   "display_name": "Python 3 (ipykernel)",
   "language": "python",
   "name": "python3"
  },
  "language_info": {
   "codemirror_mode": {
    "name": "ipython",
    "version": 3
   },
   "file_extension": ".py",
   "mimetype": "text/x-python",
   "name": "python",
   "nbconvert_exporter": "python",
   "pygments_lexer": "ipython3",
   "version": "3.12.7"
  }
 },
 "nbformat": 4,
 "nbformat_minor": 5
}
